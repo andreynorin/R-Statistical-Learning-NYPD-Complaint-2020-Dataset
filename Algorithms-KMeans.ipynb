{
 "cells": [
  {
   "cell_type": "markdown",
   "metadata": {},
   "source": [
    "## Working with DateTime fields"
   ]
  },
  {
   "cell_type": "code",
   "execution_count": 49,
   "metadata": {
    "scrolled": true
   },
   "outputs": [],
   "source": [
    "library(plyr)\n",
    "library(ggplot2)\n",
    "library(tidyverse)\n",
    "library(lubridate)\n",
    "library(tibble)\n",
    "library(chron)\n",
    "library(ISLR)\n",
    "library(tree)\n",
    "library(rsample)  # data splitting \n",
    "library(dplyr)    # data transformation\n",
    "library(ggplot2)  # data visualization\n",
    "library(caret)    # implementing with caret\n",
    "library(h2o)      # implementing with h2o\n",
    "library(klaR)\n",
    "\n",
    "#options(stringsAsFactors = FALSE)"
   ]
  },
  {
   "cell_type": "code",
   "execution_count": 50,
   "metadata": {},
   "outputs": [],
   "source": [
    "CrimeData = read.csv(\"NYPD_Complaint_Data_Current__Year_To_Date_.csv\")"
   ]
  },
  {
   "cell_type": "code",
   "execution_count": 155,
   "metadata": {},
   "outputs": [],
   "source": [
    "CD <- data.frame(CrimeData[1:300000,])\n",
    "\n",
    "CD$ADDR_PCT_CD  <- as.factor(CD$ADDR_PCT_CD)\n",
    "CD$ReportedDate <- mdy(CD$CMPLNT_TO_DT)\n",
    "\n",
    "CD$ReportedDate <- as.Date(CD$ReportedDate)\n",
    "\n",
    "CD$ReportedTime <- CD$CMPLNT_FR_TM\n",
    "CD$ReportedTime <- chron(times=CD$ReportedTime)\n",
    "\n",
    "CD$CMPLNT_FR_DT <- NULL\n",
    "CD$CMPLNT_TO_DT <- NULL"
   ]
  },
  {
   "cell_type": "code",
   "execution_count": 156,
   "metadata": {},
   "outputs": [],
   "source": [
    "CrimesAgainstBusiness    <- CD[CD$VIC_SEX == 'D',]\n",
    "CrimesAgainstPeopleOfNYS <- CD[CD$VIC_SEX == 'E',]\n",
    "CrimesAgainstPersons     <- CD[CD$VIC_SEX == 'M' | CD$VIC_SEX == 'F',]"
   ]
  },
  {
   "cell_type": "markdown",
   "metadata": {},
   "source": [
    "## Temporary T Dataset for Pre-Processing and Visualization"
   ]
  },
  {
   "cell_type": "code",
   "execution_count": 157,
   "metadata": {},
   "outputs": [],
   "source": [
    "T <- data.frame(\n",
    "    Precinct        = CrimesAgainstPersons$ADDR_PCT_CD,\n",
    "    OffenseDesc     = CrimesAgainstPersons$OFNS_DESC,\n",
    "    VicSex          = CrimesAgainstPersons$VIC_SEX,\n",
    "    VicRace         = CrimesAgainstPersons$VIC_RACE,\n",
    "    VicAgeGroup     = CrimesAgainstPersons$VIC_AGE_GROUP,\n",
    "    ReportedDate    = CrimesAgainstPersons$ReportedDate,\n",
    "    ReportedTime    = CrimesAgainstPersons$ReportedTime,\n",
    "    Borough         = CrimesAgainstPersons$BORO_NM,\n",
    "    PremisesType    = CrimesAgainstPersons$PREM_TYP_DESC,\n",
    "    SusAgeGroup     = CrimesAgainstPersons$SUSP_AGE_GROUP,\n",
    "    SusRace         = CrimesAgainstPersons$SUSP_RACE,\n",
    "    SusSex          = CrimesAgainstPersons$SUSP_SEX,\n",
    "    Latitude        = CrimesAgainstPersons$Latitude,\n",
    "    Longitude       = CrimesAgainstPersons$Longitude\n",
    ")\n",
    "\n",
    "VIC_BizOrg         = ifelse(T$VicSex == \"D\", 1,0)\n",
    "VIC_PPLOfNYS       = ifelse(T$VicSex == \"E\", 1,0)\n",
    "\n",
    "# Convert Column Types\n",
    "T$OffenseDesc <- as.factor(T$OffenseDesc)\n",
    "T$ReportedDate <- as.POSIXlt(T$ReportedDate)\n",
    "\n",
    "T <- na.omit(T)\n",
    "\n",
    "# Remove all records older than 2020-01-01\n",
    "T <- subset(T, T$ReportedDate > (\"2019-12-31\"))\n",
    "\n",
    "# Add month column\n",
    "\n",
    "T$Month = rep(0, nrow(T))\n",
    "\n",
    "T$Month <- as.POSIXlt(T$ReportedDate)\n",
    "T$Month <- format(as.Date(T$Month), \"%B\")\n",
    "\n",
    "T <- na.omit(T)\n",
    "T <- T[order(as.Date(T$ReportedDate)),]\n",
    "\n",
    "# Adding a Week column\n",
    "T$Week = rep(0, nrow(T))\n",
    "T$Week <- strftime(T$ReportedDate, format = \"%V\")\n",
    "\n",
    "# Adding a  Day Of Week column\n",
    "T$DayOfWeek = rep(0, nrow(T))\n",
    "T$DayOfWeek <- strftime(T$ReportedDate, format = \"%A\")\n",
    "\n",
    "# Add an hour column\n",
    "T$ReportedTime <- as.factor(T$ReportedTime)\n",
    "\n",
    "T$Hour = rep(0, nrow(T))\n",
    "T$Hour <- format(as.POSIXct(T$ReportedTime,format=\"%H:%M:%S\"),\"%H\")\n",
    "\n",
    "T <- na.omit(T)"
   ]
  },
  {
   "cell_type": "markdown",
   "metadata": {},
   "source": [
    "### NYPD - Processing Ready Dataset"
   ]
  },
  {
   "cell_type": "code",
   "execution_count": 158,
   "metadata": {},
   "outputs": [],
   "source": [
    "# Create Final Processing Ready Dataset\n",
    "\n",
    "NYPD <- T\n",
    "\n",
    "NYPD <- na.omit(NYPD)\n",
    "\n",
    "NYPD$PremisesType      <- as.factor(NYPD$PremisesType)\n",
    "NYPD$Borough           <- as.factor(NYPD$Borough)\n",
    "\n",
    "# Cleaning dataset\n",
    "NYPD <- na.omit(NYPD)\n",
    "\n",
    "## Cleaning location data\n",
    "NYPD <- subset(NYPD, \n",
    "               Borough == \"BROOKLYN\" |\n",
    "               Borough == \"BRONX\"|\n",
    "               Borough == \"QUEENS\" |\n",
    "               Borough == \"STATEN ISLAND\" |\n",
    "               Borough == \"MANHATTAN\"\n",
    "              )\n",
    "\n",
    "NYPD$Borough <- droplevels(NYPD$Borough)\n",
    "\n",
    "NYPD <- subset(NYPD,\n",
    "               PremisesType == \"RESIDENCE - APT. HOUSE\" |\n",
    "               PremisesType == \"STREET\" |\n",
    "               PremisesType == \"RESIDENCE-HOUSE\" |\n",
    "               PremisesType == \"RESIDENCE - PUBLIC HOUSING\" |\n",
    "               PremisesType == \"OTHER\" |\n",
    "               PremisesType == \"GROCERY/BODEGA\" |\n",
    "               PremisesType == \"COMMERCIAL BUILDING\" |\n",
    "               PremisesType == \"PARK/PLAYGROUND\" |\n",
    "               PremisesType == \"RESTAURANT/DINER\"|\n",
    "               PremisesType == \"HOTEL/MOTEL\" |\n",
    "               PremisesType == \"CHAIN STORE\" |\n",
    "               PremisesType == \"HOMELESS SHELTER\" |\n",
    "               PremisesType == \"PARKING LOT/GARAGE (PUBLIC\" |\n",
    "               PremisesType == \"FAST FOOD\" |\n",
    "               PremisesType == \"HOSPITAL\" |\n",
    "               PremisesType == \"PARKING LOT/GARAGE (PRIVATE)\" |\n",
    "               PremisesType == \"BAR/NIGHT CLUB\" |\n",
    "               PremisesType == \"DEPARTMENT STORE\" |\n",
    "               PremisesType == \"PUBLIC SCHOOL\" |\n",
    "               PremisesType == \"BANK\" |\n",
    "               PremisesType == \"BUS (NYC TRANSIT)\" |\n",
    "               PremisesType == \"PUBLIC BUILDING\" |\n",
    "               PremisesType == \"FOOD SUPERMARKET\" |\n",
    "               PremisesType == \"DRUG STORE\" |\n",
    "               PremisesType == \"HIGHWAY/PARKWAY\" |\n",
    "               PremisesType == \"GAS STATION\" |\n",
    "               PremisesType == \"DRY CLEANER/LAUNDRY\" |\n",
    "               PremisesType == \"DOCTOR/DENTIST OFFICE\"               \n",
    "              )\n",
    "\n",
    "NYPD$PremisesType <- droplevels(NYPD$PremisesType)\n",
    "\n",
    "## CLEANING VICTIM DATA\n",
    "NYPD <- subset(NYPD, \n",
    "               VicAgeGroup == \"<18\" |\n",
    "               VicAgeGroup == \"18-24\" |\n",
    "               VicAgeGroup == \"25-44\" |\n",
    "               VicAgeGroup == \"45-64\" |\n",
    "               VicAgeGroup == \"65+\" |\n",
    "               VicAgeGroup == \"UNKNOWN\"\n",
    "              )\n",
    "\n",
    "NYPD$VicAgeGroup <- droplevels(NYPD$VicAgeGroup)\n",
    "\n",
    "NYPD <- subset(NYPD, VicSex == \"M\" | VicSex == \"F\")\n",
    "NYPD$VicSex <-droplevels(NYPD$VicSex)\n",
    "\n",
    "NYPD <- subset(NYPD,\n",
    "               VicRace == \"AMERICAN INDIAN/ALASKAN NATIVE\" |\n",
    "               VicRace == \"ASIAN / PACIFIC ISLANDER\" |\n",
    "               VicRace == \"BLACK\" |\n",
    "               VicRace == \"BLACK HISPANIC\" |\n",
    "               VicRace == \"WHITE HISPANIC\" |\n",
    "               VicRace == \"WHITE\" |\n",
    "               VicRace == \"UNKNOWN\"\n",
    "              )\n",
    "\n",
    "NYPD$VicRace <- droplevels(NYPD$VicRace)\n",
    "\n",
    "## CLEANING SUSPECT DATA\n",
    "NYPD <- subset(NYPD, \n",
    "               Borough == \"BROOKLYN\" |\n",
    "               Borough == \"BRONX\"|\n",
    "               Borough == \"QUEENS\" |\n",
    "               Borough == \"STATEN ISLAND\" |\n",
    "               Borough == \"MANHATTAN\"\n",
    "              )\n",
    "\n",
    "NYPD$Borough <- droplevels(NYPD$Borough)\n",
    "\n",
    "## CLEANING SUSPECT DATA\n",
    "NYPD <- subset(NYPD, \n",
    "               SusAgeGroup == \"<18\" |\n",
    "               SusAgeGroup == \"18-24\" |\n",
    "               SusAgeGroup == \"25-44\" |\n",
    "               SusAgeGroup == \"45-64\" |\n",
    "               SusAgeGroup == \"65+\"   |\n",
    "               SusAgeGroup == \"UNKNOWN\"\n",
    "              )\n",
    "\n",
    "NYPD$SusAgeGroup <- droplevels(NYPD$SusAgeGroup)\n",
    "\n",
    "NYPD <- subset(NYPD, SusSex == \"M\" | SusSex == \"F\")\n",
    "NYPD$SusSex <-droplevels(NYPD$SusSex)\n",
    "\n",
    "NYPD <- subset(NYPD,\n",
    "               SusRace == \"AMERICAN INDIAN/ALASKAN NATIVE\" |\n",
    "               SusRace == \"ASIAN / PACIFIC ISLANDER\" |\n",
    "               SusRace == \"BLACK\" |\n",
    "               SusRace == \"BLACK HISPANIC\" |\n",
    "               SusRace == \"WHITE HISPANIC\" |\n",
    "               SusRace == \"WHITE\" |\n",
    "               SusRace == \"UNKNOWN\"\n",
    "              )\n",
    "NYPD$SusRace <- droplevels(NYPD$SusRace)\n",
    "\n",
    "\n",
    "NYPD <- subset(NYPD, \n",
    "               OffenseDesc == \"HARRASSMENT 2\" |\n",
    "               #OffenseDesc == \"FELONY ASSAULT\"|\n",
    "               OffenseDesc == \"CRIMINAL MISCHIEF & RELATED OF\"|\n",
    "               OffenseDesc == \"GRAND LARCENY\"|\n",
    "               OffenseDesc == \"OFF. AGNST PUB ORD SENSBLTY &\"|\n",
    "               OffenseDesc == \"ROBBERY\"|\n",
    "               OffenseDesc == \"VEHICLE AND TRAFFIC LAWS\"|\n",
    "               OffenseDesc == \"SEX CRIMES\"|\n",
    "               OffenseDesc == \"OFFENSES AGAINST PUBLIC ADMINI\"|\n",
    "               OffenseDesc == \"THEFT-FRAUD\"|\n",
    "               OffenseDesc == \"RAPE\"|\n",
    "               OffenseDesc == \"CRIMINAL TRESPASS\"|\n",
    "               OffenseDesc == \"FRAUDS\"|\n",
    "               OffenseDesc == \"UNAUTHORIZED USE OF A VEHICLE\"|\n",
    "               OffenseDesc == \"ADMINISTRATIVE CODE\"\n",
    "              )\n",
    "\n",
    "NYPD$Hour       <- as.numeric(NYPD$Hour)\n",
    "NYPD$Month      <- as.factor(NYPD$Month)\n",
    "NYPD$Week       <- as.numeric(NYPD$Week)\n",
    "NYPD$DayOfWeek  <- as.factor(NYPD$DayOfWeek)\n",
    "NYPD$Precinct   <- as.factor(NYPD$Precinct)\n",
    "\n",
    "NYPD$Harrassment   = ifelse(NYPD$OffenseDesc == \"HARRASSMENT 2\", \"YES\", \"NO\")\n",
    "NYPD$Harrassment <- as.factor(NYPD$Harrassment)\n",
    "\n",
    "NYPD$OffenseDesc <- droplevels(NYPD$OffenseDesc)\n",
    "\n",
    "NYPD           <- as.data.frame(NYPD)\n",
    "rownames(NYPD) <- NULL\n",
    "\n",
    "\n",
    "NYPD$ReportedDate <- NULL\n",
    "NYPD$ReportedTime <- NULL\n",
    "NYPD$OffenseDesc  <- NULL\n",
    "#NYPD$Latitude     <- NULL\n",
    "#NYPD$Longitude    <- NULL\n",
    "#NYPD$Week         <- NULL\n",
    "#NYPD$Hour         <- NULL\n",
    "\n",
    "\n",
    "\n",
    "# Cleaning dataset\n",
    "NYPD <- na.omit(NYPD)\n"
   ]
  },
  {
   "cell_type": "markdown",
   "metadata": {},
   "source": [
    "## Creating Training and Validation Datasets"
   ]
  },
  {
   "cell_type": "code",
   "execution_count": 159,
   "metadata": {},
   "outputs": [
    {
     "data": {
      "text/html": [
       "<style>\n",
       ".list-inline {list-style: none; margin:0; padding: 0}\n",
       ".list-inline>li {display: inline-block}\n",
       ".list-inline>li:not(:last-child)::after {content: \"\\00b7\"; padding: 0 .5ex}\n",
       "</style>\n",
       "<ol class=list-inline><li>47482</li><li>16</li></ol>\n"
      ],
      "text/latex": [
       "\\begin{enumerate*}\n",
       "\\item 47482\n",
       "\\item 16\n",
       "\\end{enumerate*}\n"
      ],
      "text/markdown": [
       "1. 47482\n",
       "2. 16\n",
       "\n",
       "\n"
      ],
      "text/plain": [
       "[1] 47482    16"
      ]
     },
     "metadata": {},
     "output_type": "display_data"
    },
    {
     "data": {
      "text/html": [
       "<style>\n",
       ".list-inline {list-style: none; margin:0; padding: 0}\n",
       ".list-inline>li {display: inline-block}\n",
       ".list-inline>li:not(:last-child)::after {content: \"\\00b7\"; padding: 0 .5ex}\n",
       "</style>\n",
       "<ol class=list-inline><li>29976</li><li>16</li></ol>\n"
      ],
      "text/latex": [
       "\\begin{enumerate*}\n",
       "\\item 29976\n",
       "\\item 16\n",
       "\\end{enumerate*}\n"
      ],
      "text/markdown": [
       "1. 29976\n",
       "2. 16\n",
       "\n",
       "\n"
      ],
      "text/plain": [
       "[1] 29976    16"
      ]
     },
     "metadata": {},
     "output_type": "display_data"
    }
   ],
   "source": [
    "## 75% of the sample size\n",
    "smp_size <- floor(0.75 * nrow(NYPD))\n",
    "\n",
    "## set the seed to make your partition reproducible\n",
    "set.seed(123)\n",
    "train_ind <- sample(seq_len(nrow(NYPD)), size = smp_size, replace = TRUE)\n",
    "\n",
    "train <- NYPD[train_ind, ]\n",
    "test  <- NYPD[-train_ind, ]\n",
    "\n",
    "rownames(train) <- NULL\n",
    "rownames(test) <- NULL\n",
    "\n",
    "dim(train)\n",
    "dim(test)"
   ]
  },
  {
   "cell_type": "markdown",
   "metadata": {},
   "source": [
    "## Naive Bayes Classifier"
   ]
  },
  {
   "cell_type": "code",
   "execution_count": 160,
   "metadata": {},
   "outputs": [
    {
     "data": {
      "text/plain": [
       "    Precinct     VicSex                              VicRace     \n",
       " 75     : 2120   F:39267   AMERICAN INDIAN/ALASKAN NATIVE:  278  \n",
       " 40     : 1782   M:24043   ASIAN / PACIFIC ISLANDER      : 5603  \n",
       " 47     : 1515             BLACK                         :23823  \n",
       " 48     : 1514             BLACK HISPANIC                : 3570  \n",
       " 46     : 1464             UNKNOWN                       : 2506  \n",
       " 114    : 1419             WHITE                         :11692  \n",
       " (Other):53496             WHITE HISPANIC                :15838  \n",
       "  VicAgeGroup             Borough                          PremisesType  \n",
       " <18    : 3255   BRONX        :13588   RESIDENCE - APT. HOUSE    :22142  \n",
       " 18-24  : 7711   BROOKLYN     :19186   STREET                    :13745  \n",
       " 25-44  :31293   MANHATTAN    :12693   RESIDENCE-HOUSE           :10817  \n",
       " 45-64  :16719   QUEENS       :15001   RESIDENCE - PUBLIC HOUSING: 7785  \n",
       " 65+    : 3611   STATEN ISLAND: 2842   OTHER                     : 1374  \n",
       " UNKNOWN:  721                         COMMERCIAL BUILDING       :  940  \n",
       "                                       (Other)                   : 6507  \n",
       "  SusAgeGroup                              SusRace      SusSex   \n",
       " <18    : 2077   AMERICAN INDIAN/ALASKAN NATIVE:  208   F:16715  \n",
       " 18-24  : 7347   ASIAN / PACIFIC ISLANDER      : 3258   M:46595  \n",
       " 25-44  :24629   BLACK                         :28391            \n",
       " 45-64  : 8922   BLACK HISPANIC                : 3872            \n",
       " 65+    : 1157   UNKNOWN                       : 7035            \n",
       " UNKNOWN:19178   WHITE                         : 7998            \n",
       "                 WHITE HISPANIC                :12548            \n",
       "    Latitude       Longitude            Month            Week      \n",
       " Min.   :40.50   Min.   :-74.25   August   : 8211   Min.   : 1.00  \n",
       " 1st Qu.:40.67   1st Qu.:-73.96   July     : 7865   1st Qu.:10.00  \n",
       " Median :40.73   Median :-73.92   September: 7359   Median :22.00  \n",
       " Mean   :40.73   Mean   :-73.92   February : 7315   Mean   :20.98  \n",
       " 3rd Qu.:40.81   3rd Qu.:-73.88   June     : 7073   3rd Qu.:31.00  \n",
       " Max.   :40.91   Max.   :-73.70   March    : 6948   Max.   :40.00  \n",
       "                                  (Other)  :18539                  \n",
       "     DayOfWeek         Hour       Harrassment\n",
       " Friday   :9161   Min.   : 0.00   NO :29557  \n",
       " Monday   :9341   1st Qu.: 9.00   YES:33753  \n",
       " Saturday :8829   Median :14.00              \n",
       " Sunday   :8900   Mean   :13.24              \n",
       " Thursday :8701   3rd Qu.:18.00              \n",
       " Tuesday  :9162   Max.   :23.00              \n",
       " Wednesday:9216                              "
      ]
     },
     "metadata": {},
     "output_type": "display_data"
    },
    {
     "data": {
      "text/html": [
       "<table>\n",
       "<caption>A matrix: 1 × 16 of type chr</caption>\n",
       "<thead>\n",
       "\t<tr><th scope=col>Precinct</th><th scope=col>VicSex</th><th scope=col>VicRace</th><th scope=col>VicAgeGroup</th><th scope=col>Borough</th><th scope=col>PremisesType</th><th scope=col>SusAgeGroup</th><th scope=col>SusRace</th><th scope=col>SusSex</th><th scope=col>Latitude</th><th scope=col>Longitude</th><th scope=col>Month</th><th scope=col>Week</th><th scope=col>DayOfWeek</th><th scope=col>Hour</th><th scope=col>Harrassment</th></tr>\n",
       "</thead>\n",
       "<tbody>\n",
       "\t<tr><td>factor</td><td>factor</td><td>factor</td><td>factor</td><td>factor</td><td>factor</td><td>factor</td><td>factor</td><td>factor</td><td>numeric</td><td>numeric</td><td>factor</td><td>numeric</td><td>factor</td><td>numeric</td><td>factor</td></tr>\n",
       "</tbody>\n",
       "</table>\n"
      ],
      "text/latex": [
       "A matrix: 1 × 16 of type chr\n",
       "\\begin{tabular}{llllllllllllllll}\n",
       " Precinct & VicSex & VicRace & VicAgeGroup & Borough & PremisesType & SusAgeGroup & SusRace & SusSex & Latitude & Longitude & Month & Week & DayOfWeek & Hour & Harrassment\\\\\n",
       "\\hline\n",
       "\t factor & factor & factor & factor & factor & factor & factor & factor & factor & numeric & numeric & factor & numeric & factor & numeric & factor\\\\\n",
       "\\end{tabular}\n"
      ],
      "text/markdown": [
       "\n",
       "A matrix: 1 × 16 of type chr\n",
       "\n",
       "| Precinct | VicSex | VicRace | VicAgeGroup | Borough | PremisesType | SusAgeGroup | SusRace | SusSex | Latitude | Longitude | Month | Week | DayOfWeek | Hour | Harrassment |\n",
       "|---|---|---|---|---|---|---|---|---|---|---|---|---|---|---|---|\n",
       "| factor | factor | factor | factor | factor | factor | factor | factor | factor | numeric | numeric | factor | numeric | factor | numeric | factor |\n",
       "\n"
      ],
      "text/plain": [
       "     Precinct VicSex VicRace VicAgeGroup Borough PremisesType SusAgeGroup\n",
       "[1,] factor   factor factor  factor      factor  factor       factor     \n",
       "     SusRace SusSex Latitude Longitude Month  Week    DayOfWeek Hour   \n",
       "[1,] factor  factor numeric  numeric   factor numeric factor    numeric\n",
       "     Harrassment\n",
       "[1,] factor     "
      ]
     },
     "metadata": {},
     "output_type": "display_data"
    }
   ],
   "source": [
    "summary(NYPD)\n",
    "rbind(sapply(NYPD, class))\n",
    "#sapply(test, class)"
   ]
  },
  {
   "cell_type": "code",
   "execution_count": 161,
   "metadata": {},
   "outputs": [],
   "source": [
    "#VicSex, VicRace, VicAgeGroup, Borough, PremisesType, SusAgeGroup, SusRace, SusSex, Latitude, Longitude, Month, Week, DayOfWeek,Hour, Harrassment"
   ]
  },
  {
   "cell_type": "markdown",
   "metadata": {},
   "source": [
    "## K-Means Clustering for Geospatial data"
   ]
  },
  {
   "cell_type": "code",
   "execution_count": 162,
   "metadata": {
    "scrolled": false
   },
   "outputs": [
    {
     "data": {
      "text/html": [
       "<table>\n",
       "<caption>A matrix: 6 × 2 of type dbl</caption>\n",
       "<tbody>\n",
       "\t<tr><td>-0.1359701</td><td>-0.6770299</td></tr>\n",
       "\t<tr><td> 0.5141036</td><td> 1.6333037</td></tr>\n",
       "\t<tr><td> 0.6673512</td><td>-0.8472212</td></tr>\n",
       "\t<tr><td>-3.1709762</td><td>-1.1777577</td></tr>\n",
       "\t<tr><td> 1.9932253</td><td>-1.6111127</td></tr>\n",
       "\t<tr><td>-1.2916773</td><td>-1.2679862</td></tr>\n",
       "</tbody>\n",
       "</table>\n"
      ],
      "text/latex": [
       "A matrix: 6 × 2 of type dbl\n",
       "\\begin{tabular}{ll}\n",
       "\t -0.1359701 & -0.6770299\\\\\n",
       "\t  0.5141036 &  1.6333037\\\\\n",
       "\t  0.6673512 & -0.8472212\\\\\n",
       "\t -3.1709762 & -1.1777577\\\\\n",
       "\t  1.9932253 & -1.6111127\\\\\n",
       "\t -1.2916773 & -1.2679862\\\\\n",
       "\\end{tabular}\n"
      ],
      "text/markdown": [
       "\n",
       "A matrix: 6 × 2 of type dbl\n",
       "\n",
       "| -0.1359701 | -0.6770299 |\n",
       "|  0.5141036 |  1.6333037 |\n",
       "|  0.6673512 | -0.8472212 |\n",
       "| -3.1709762 | -1.1777577 |\n",
       "|  1.9932253 | -1.6111127 |\n",
       "| -1.2916773 | -1.2679862 |\n",
       "\n"
      ],
      "text/plain": [
       "     [,1]       [,2]      \n",
       "[1,] -0.1359701 -0.6770299\n",
       "[2,]  0.5141036  1.6333037\n",
       "[3,]  0.6673512 -0.8472212\n",
       "[4,] -3.1709762 -1.1777577\n",
       "[5,]  1.9932253 -1.6111127\n",
       "[6,] -1.2916773 -1.2679862"
      ]
     },
     "metadata": {},
     "output_type": "display_data"
    }
   ],
   "source": [
    "# Preparing the data\n",
    "\n",
    "x <- CrimesAgainstPersons$X_COORD_CD\n",
    "y <- CrimesAgainstPersons$Y_COORD_CD\n",
    "\n",
    "x = na.omit(x)\n",
    "y = na.omit(y)\n",
    "\n",
    "points <- data.frame(x, y)\n",
    "\n",
    "points <- na.omit(points)\n",
    "points = scale(points)\n",
    "\n",
    "rownames(points) <- NULL\n",
    "colnames(points) <- NULL\n",
    "\n",
    "head(points)\n"
   ]
  },
  {
   "cell_type": "code",
   "execution_count": 163,
   "metadata": {},
   "outputs": [],
   "source": [
    "# K-Means Cluster Analysis\n",
    "ClusterInfo = kmeans(points,2)"
   ]
  },
  {
   "cell_type": "code",
   "execution_count": 164,
   "metadata": {},
   "outputs": [
    {
     "data": {
      "image/png": "[encoded data removed]",
      "text/plain": [
       "plot without title"
      ]
     },
     "metadata": {
      "image/png": {
       "height": 420,
       "width": 420
      }
     },
     "output_type": "display_data"
    }
   ],
   "source": [
    "plot(points, col = ClusterInfo$cluster)\n",
    "points(ClusterInfo$centers, col = 1:3, pch = 1, cex = 6)"
   ]
  },
  {
   "cell_type": "code",
   "execution_count": 165,
   "metadata": {},
   "outputs": [
    {
     "data": {
      "image/png": "[encoded data removed]",
      "text/plain": [
       "plot without title"
      ]
     },
     "metadata": {
      "image/png": {
       "height": 420,
       "width": 420
      }
     },
     "output_type": "display_data"
    }
   ],
   "source": [
    "# find the variance \n",
    "TheVariance=apply(points,2,var)\n",
    "\n",
    "# find the sum of squares for 1 cluster\n",
    "WithinClusterSumOfSquares = (nrow(points)-1)*sum(TheVariance)\n",
    "\n",
    "# find the sum of squares for 2 to 15 clusters\n",
    "for (i in 2:15) {\n",
    "  ClusterInfo=kmeans(points, centers=i)\n",
    "  WithinClusterSumOfSquares[i] = sum(ClusterInfo$withinss)\n",
    "}\n",
    "# plut the result\n",
    "plot(1:15, WithinClusterSumOfSquares, type=\"b\", xlab=\"Number of Clusters\",ylab=\"Within groups sum of squares\")"
   ]
  },
  {
   "cell_type": "code",
   "execution_count": 166,
   "metadata": {},
   "outputs": [],
   "source": [
    "# Optimal Number of clusters is between 8 and 12"
   ]
  },
  {
   "cell_type": "code",
   "execution_count": 167,
   "metadata": {},
   "outputs": [
    {
     "data": {
      "image/png": "[encoded data removed]",
      "text/plain": [
       "plot without title"
      ]
     },
     "metadata": {
      "image/png": {
       "height": 420,
       "width": 420
      }
     },
     "output_type": "display_data"
    }
   ],
   "source": [
    "ClusterInfo = kmeans(points,8)\n",
    "plot(points, col = ClusterInfo$cluster)\n",
    "points(ClusterInfo$centers, col = 1:3, pch = 1, cex = 6)"
   ]
  },
  {
   "cell_type": "code",
   "execution_count": 168,
   "metadata": {},
   "outputs": [
    {
     "data": {
      "image/png": "[encoded data removed]",
      "text/plain": [
       "plot without title"
      ]
     },
     "metadata": {
      "image/png": {
       "height": 420,
       "width": 420
      }
     },
     "output_type": "display_data"
    }
   ],
   "source": [
    "ClusterInfo = kmeans(points,12)\n",
    "plot(points, col = ClusterInfo$cluster)\n",
    "points(ClusterInfo$centers, col = 1:3, pch = 1, cex = 11)"
   ]
  },
  {
   "cell_type": "code",
   "execution_count": 169,
   "metadata": {},
   "outputs": [],
   "source": [
    "## Hierarchical Cluster"
   ]
  },
  {
   "cell_type": "code",
   "execution_count": 170,
   "metadata": {},
   "outputs": [
    {
     "ename": "ERROR",
     "evalue": "Error: cannot allocate vector of size 199.7 Gb\n",
     "output_type": "error",
     "traceback": [
      "Error: cannot allocate vector of size 199.7 Gb\nTraceback:\n",
      "1. dist(as.matrix(points))"
     ]
    }
   ],
   "source": [
    "d = dist(as.matrix(points))   # find distance matrix\n",
    "hc = hclust(d)                # apply hirarchical clustering\n",
    "plot(hc)                       # plot the dendrogram \n",
    "\n",
    "\n",
    "\n",
    "#Convert the data matrix into a data frame with x,y coordinate values\n",
    "#TheDataFrame <- data.frame(x=coordinates(TheData)[,1],y=coordinates(TheData)[,2])\n",
    "\n",
    "# Find the distance matrix between the points\n",
    "distances=dist(points)\n",
    "\n",
    "# Find the hierarchical clusters (tree)\n",
    "TheTree=hclust(distances)\n",
    "plot(TheTree)"
   ]
  },
  {
   "cell_type": "code",
   "execution_count": 171,
   "metadata": {},
   "outputs": [
    {
     "data": {
      "text/html": [
       "<table>\n",
       "<caption>A data.frame: 6 × 36</caption>\n",
       "<thead>\n",
       "\t<tr><th></th><th scope=col>ï..CMPLNT_NUM</th><th scope=col>ADDR_PCT_CD</th><th scope=col>BORO_NM</th><th scope=col>CMPLNT_FR_TM</th><th scope=col>CMPLNT_TO_TM</th><th scope=col>CRM_ATPT_CPTD_CD</th><th scope=col>HADEVELOPT</th><th scope=col>HOUSING_PSA</th><th scope=col>JURISDICTION_CODE</th><th scope=col>JURIS_DESC</th><th scope=col>...</th><th scope=col>VIC_RACE</th><th scope=col>VIC_SEX</th><th scope=col>X_COORD_CD</th><th scope=col>Y_COORD_CD</th><th scope=col>Latitude</th><th scope=col>Longitude</th><th scope=col>Lat_Lon</th><th scope=col>New.Georeferenced.Column</th><th scope=col>ReportedDate</th><th scope=col>ReportedTime</th></tr>\n",
       "\t<tr><th></th><th scope=col>&lt;int&gt;</th><th scope=col>&lt;fct&gt;</th><th scope=col>&lt;fct&gt;</th><th scope=col>&lt;fct&gt;</th><th scope=col>&lt;fct&gt;</th><th scope=col>&lt;fct&gt;</th><th scope=col>&lt;fct&gt;</th><th scope=col>&lt;fct&gt;</th><th scope=col>&lt;int&gt;</th><th scope=col>&lt;fct&gt;</th><th scope=col>...</th><th scope=col>&lt;fct&gt;</th><th scope=col>&lt;fct&gt;</th><th scope=col>&lt;int&gt;</th><th scope=col>&lt;int&gt;</th><th scope=col>&lt;dbl&gt;</th><th scope=col>&lt;dbl&gt;</th><th scope=col>&lt;fct&gt;</th><th scope=col>&lt;fct&gt;</th><th scope=col>&lt;date&gt;</th><th scope=col>&lt;times&gt;</th></tr>\n",
       "</thead>\n",
       "<tbody>\n",
       "\t<tr><th scope=row>1</th><td>972326799</td><td>81 </td><td></td><td>21:27:00</td><td></td><td>COMPLETED</td><td></td><td></td><td>NA</td><td>N.Y. POLICE DEPT</td><td>...</td><td>BLACK         </td><td>M</td><td>1003904</td><td>186483</td><td>40.67852</td><td>-73.92914</td><td>(40.67851591200008, -73.92914304899993)</td><td>POINT (-73.92914304899993 40.67851591200008)</td><td>NA</td><td>21:27:00</td></tr>\n",
       "\t<tr><th scope=row>2</th><td>376304873</td><td>52 </td><td></td><td>19:13:00</td><td></td><td>COMPLETED</td><td></td><td></td><td>NA</td><td>N.Y. POLICE DEPT</td><td>...</td><td>BLACK HISPANIC</td><td>M</td><td>1017928</td><td>258050</td><td>40.87491</td><td>-73.87822</td><td>(40.87490600500007, -73.87822380899996)</td><td>POINT (-73.87822380899996 40.87490600500007)</td><td>NA</td><td>19:13:00</td></tr>\n",
       "\t<tr><th scope=row>3</th><td>299326203</td><td>75 </td><td></td><td>01:21:00</td><td></td><td>COMPLETED</td><td></td><td></td><td>NA</td><td>N.Y. POLICE DEPT</td><td>...</td><td>BLACK         </td><td>M</td><td>1021234</td><td>181211</td><td>40.66399</td><td>-73.86669</td><td>(40.66399002800006, -73.86669235099998)</td><td>POINT (-73.86669235099998 40.66399002800006)</td><td>NA</td><td>01:21:00</td></tr>\n",
       "\t<tr><th scope=row>4</th><td>674946147</td><td>121</td><td></td><td>08:46:00</td><td></td><td>COMPLETED</td><td></td><td></td><td>NA</td><td>N.Y. POLICE DEPT</td><td>...</td><td>BLACK         </td><td>M</td><td> 938430</td><td>170972</td><td>40.63584</td><td>-74.16509</td><td>(40.63584491100005, -74.165090337)     </td><td>POINT (-74.165090337 40.63584491100005)     </td><td>NA</td><td>08:46:00</td></tr>\n",
       "\t<tr><th scope=row>5</th><td>416422620</td><td>101</td><td></td><td>13:50:00</td><td></td><td>COMPLETED</td><td></td><td></td><td>NA</td><td>N.Y. POLICE DEPT</td><td>...</td><td>BLACK         </td><td>M</td><td>1049837</td><td>157548</td><td>40.59887</td><td>-73.76382</td><td>(40.59887464700005, -73.76382298499993)</td><td>POINT (-73.76382298499993 40.59887464700005)</td><td>NA</td><td>13:50:00</td></tr>\n",
       "\t<tr><th scope=row>6</th><td>119130081</td><td>68 </td><td></td><td>06:50:00</td><td></td><td>COMPLETED</td><td></td><td></td><td>NA</td><td>N.Y. POLICE DEPT</td><td>...</td><td>WHITE         </td><td>M</td><td> 978972</td><td>168177</td><td>40.62829</td><td>-74.01902</td><td>(40.62829017100006, -74.01901584699993)</td><td>POINT (-74.01901584699993 40.62829017100006)</td><td>NA</td><td>06:50:00</td></tr>\n",
       "</tbody>\n",
       "</table>\n"
      ],
      "text/latex": [
       "A data.frame: 6 × 36\n",
       "\\begin{tabular}{r|lllllllllllllllllllll}\n",
       "  & ï..CMPLNT\\_NUM & ADDR\\_PCT\\_CD & BORO\\_NM & CMPLNT\\_FR\\_TM & CMPLNT\\_TO\\_TM & CRM\\_ATPT\\_CPTD\\_CD & HADEVELOPT & HOUSING\\_PSA & JURISDICTION\\_CODE & JURIS\\_DESC & ... & VIC\\_RACE & VIC\\_SEX & X\\_COORD\\_CD & Y\\_COORD\\_CD & Latitude & Longitude & Lat\\_Lon & New.Georeferenced.Column & ReportedDate & ReportedTime\\\\\n",
       "  & <int> & <fct> & <fct> & <fct> & <fct> & <fct> & <fct> & <fct> & <int> & <fct> & ... & <fct> & <fct> & <int> & <int> & <dbl> & <dbl> & <fct> & <fct> & <date> & <times>\\\\\n",
       "\\hline\n",
       "\t1 & 972326799 & 81  &  & 21:27:00 &  & COMPLETED &  &  & NA & N.Y. POLICE DEPT & ... & BLACK          & M & 1003904 & 186483 & 40.67852 & -73.92914 & (40.67851591200008, -73.92914304899993) & POINT (-73.92914304899993 40.67851591200008) & NA & 21:27:00\\\\\n",
       "\t2 & 376304873 & 52  &  & 19:13:00 &  & COMPLETED &  &  & NA & N.Y. POLICE DEPT & ... & BLACK HISPANIC & M & 1017928 & 258050 & 40.87491 & -73.87822 & (40.87490600500007, -73.87822380899996) & POINT (-73.87822380899996 40.87490600500007) & NA & 19:13:00\\\\\n",
       "\t3 & 299326203 & 75  &  & 01:21:00 &  & COMPLETED &  &  & NA & N.Y. POLICE DEPT & ... & BLACK          & M & 1021234 & 181211 & 40.66399 & -73.86669 & (40.66399002800006, -73.86669235099998) & POINT (-73.86669235099998 40.66399002800006) & NA & 01:21:00\\\\\n",
       "\t4 & 674946147 & 121 &  & 08:46:00 &  & COMPLETED &  &  & NA & N.Y. POLICE DEPT & ... & BLACK          & M &  938430 & 170972 & 40.63584 & -74.16509 & (40.63584491100005, -74.165090337)      & POINT (-74.165090337 40.63584491100005)      & NA & 08:46:00\\\\\n",
       "\t5 & 416422620 & 101 &  & 13:50:00 &  & COMPLETED &  &  & NA & N.Y. POLICE DEPT & ... & BLACK          & M & 1049837 & 157548 & 40.59887 & -73.76382 & (40.59887464700005, -73.76382298499993) & POINT (-73.76382298499993 40.59887464700005) & NA & 13:50:00\\\\\n",
       "\t6 & 119130081 & 68  &  & 06:50:00 &  & COMPLETED &  &  & NA & N.Y. POLICE DEPT & ... & WHITE          & M &  978972 & 168177 & 40.62829 & -74.01902 & (40.62829017100006, -74.01901584699993) & POINT (-74.01901584699993 40.62829017100006) & NA & 06:50:00\\\\\n",
       "\\end{tabular}\n"
      ],
      "text/markdown": [
       "\n",
       "A data.frame: 6 × 36\n",
       "\n",
       "| <!--/--> | ï..CMPLNT_NUM &lt;int&gt; | ADDR_PCT_CD &lt;fct&gt; | BORO_NM &lt;fct&gt; | CMPLNT_FR_TM &lt;fct&gt; | CMPLNT_TO_TM &lt;fct&gt; | CRM_ATPT_CPTD_CD &lt;fct&gt; | HADEVELOPT &lt;fct&gt; | HOUSING_PSA &lt;fct&gt; | JURISDICTION_CODE &lt;int&gt; | JURIS_DESC &lt;fct&gt; | ... ... | VIC_RACE &lt;fct&gt; | VIC_SEX &lt;fct&gt; | X_COORD_CD &lt;int&gt; | Y_COORD_CD &lt;int&gt; | Latitude &lt;dbl&gt; | Longitude &lt;dbl&gt; | Lat_Lon &lt;fct&gt; | New.Georeferenced.Column &lt;fct&gt; | ReportedDate &lt;date&gt; | ReportedTime &lt;times&gt; |\n",
       "|---|---|---|---|---|---|---|---|---|---|---|---|---|---|---|---|---|---|---|---|---|---|\n",
       "| 1 | 972326799 | 81  | <!----> | 21:27:00 | <!----> | COMPLETED | <!----> | <!----> | NA | N.Y. POLICE DEPT | ... | BLACK          | M | 1003904 | 186483 | 40.67852 | -73.92914 | (40.67851591200008, -73.92914304899993) | POINT (-73.92914304899993 40.67851591200008) | NA | 21:27:00 |\n",
       "| 2 | 376304873 | 52  | <!----> | 19:13:00 | <!----> | COMPLETED | <!----> | <!----> | NA | N.Y. POLICE DEPT | ... | BLACK HISPANIC | M | 1017928 | 258050 | 40.87491 | -73.87822 | (40.87490600500007, -73.87822380899996) | POINT (-73.87822380899996 40.87490600500007) | NA | 19:13:00 |\n",
       "| 3 | 299326203 | 75  | <!----> | 01:21:00 | <!----> | COMPLETED | <!----> | <!----> | NA | N.Y. POLICE DEPT | ... | BLACK          | M | 1021234 | 181211 | 40.66399 | -73.86669 | (40.66399002800006, -73.86669235099998) | POINT (-73.86669235099998 40.66399002800006) | NA | 01:21:00 |\n",
       "| 4 | 674946147 | 121 | <!----> | 08:46:00 | <!----> | COMPLETED | <!----> | <!----> | NA | N.Y. POLICE DEPT | ... | BLACK          | M |  938430 | 170972 | 40.63584 | -74.16509 | (40.63584491100005, -74.165090337)      | POINT (-74.165090337 40.63584491100005)      | NA | 08:46:00 |\n",
       "| 5 | 416422620 | 101 | <!----> | 13:50:00 | <!----> | COMPLETED | <!----> | <!----> | NA | N.Y. POLICE DEPT | ... | BLACK          | M | 1049837 | 157548 | 40.59887 | -73.76382 | (40.59887464700005, -73.76382298499993) | POINT (-73.76382298499993 40.59887464700005) | NA | 13:50:00 |\n",
       "| 6 | 119130081 | 68  | <!----> | 06:50:00 | <!----> | COMPLETED | <!----> | <!----> | NA | N.Y. POLICE DEPT | ... | WHITE          | M |  978972 | 168177 | 40.62829 | -74.01902 | (40.62829017100006, -74.01901584699993) | POINT (-74.01901584699993 40.62829017100006) | NA | 06:50:00 |\n",
       "\n"
      ],
      "text/plain": [
       "  ï..CMPLNT_NUM ADDR_PCT_CD BORO_NM CMPLNT_FR_TM CMPLNT_TO_TM CRM_ATPT_CPTD_CD\n",
       "1 972326799     81                  21:27:00                  COMPLETED       \n",
       "2 376304873     52                  19:13:00                  COMPLETED       \n",
       "3 299326203     75                  01:21:00                  COMPLETED       \n",
       "4 674946147     121                 08:46:00                  COMPLETED       \n",
       "5 416422620     101                 13:50:00                  COMPLETED       \n",
       "6 119130081     68                  06:50:00                  COMPLETED       \n",
       "  HADEVELOPT HOUSING_PSA JURISDICTION_CODE JURIS_DESC       ... VIC_RACE      \n",
       "1                        NA                N.Y. POLICE DEPT ... BLACK         \n",
       "2                        NA                N.Y. POLICE DEPT ... BLACK HISPANIC\n",
       "3                        NA                N.Y. POLICE DEPT ... BLACK         \n",
       "4                        NA                N.Y. POLICE DEPT ... BLACK         \n",
       "5                        NA                N.Y. POLICE DEPT ... BLACK         \n",
       "6                        NA                N.Y. POLICE DEPT ... WHITE         \n",
       "  VIC_SEX X_COORD_CD Y_COORD_CD Latitude Longitude\n",
       "1 M       1003904    186483     40.67852 -73.92914\n",
       "2 M       1017928    258050     40.87491 -73.87822\n",
       "3 M       1021234    181211     40.66399 -73.86669\n",
       "4 M        938430    170972     40.63584 -74.16509\n",
       "5 M       1049837    157548     40.59887 -73.76382\n",
       "6 M        978972    168177     40.62829 -74.01902\n",
       "  Lat_Lon                                \n",
       "1 (40.67851591200008, -73.92914304899993)\n",
       "2 (40.87490600500007, -73.87822380899996)\n",
       "3 (40.66399002800006, -73.86669235099998)\n",
       "4 (40.63584491100005, -74.165090337)     \n",
       "5 (40.59887464700005, -73.76382298499993)\n",
       "6 (40.62829017100006, -74.01901584699993)\n",
       "  New.Georeferenced.Column                     ReportedDate ReportedTime\n",
       "1 POINT (-73.92914304899993 40.67851591200008) <NA>         21:27:00    \n",
       "2 POINT (-73.87822380899996 40.87490600500007) <NA>         19:13:00    \n",
       "3 POINT (-73.86669235099998 40.66399002800006) <NA>         01:21:00    \n",
       "4 POINT (-74.165090337 40.63584491100005)      <NA>         08:46:00    \n",
       "5 POINT (-73.76382298499993 40.59887464700005) <NA>         13:50:00    \n",
       "6 POINT (-74.01901584699993 40.62829017100006) <NA>         06:50:00    "
      ]
     },
     "metadata": {},
     "output_type": "display_data"
    }
   ],
   "source": [
    "head(CrimesAgainstPersons)"
   ]
  },
  {
   "cell_type": "code",
   "execution_count": null,
   "metadata": {},
   "outputs": [],
   "source": []
  }
 ],
 "metadata": {
  "kernelspec": {
   "display_name": "R",
   "language": "R",
   "name": "ir"
  },
  "language_info": {
   "codemirror_mode": "r",
   "file_extension": ".r",
   "mimetype": "text/x-r-source",
   "name": "R",
   "pygments_lexer": "r",
   "version": "3.6.1"
  }
 },
 "nbformat": 4,
 "nbformat_minor": 4
}

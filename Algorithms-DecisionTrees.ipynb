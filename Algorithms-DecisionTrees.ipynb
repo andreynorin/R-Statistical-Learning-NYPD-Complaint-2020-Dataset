{
 "cells": [
  {
   "cell_type": "code",
   "execution_count": 83,
   "metadata": {},
   "outputs": [],
   "source": [
    "### LOGISTIC REGRESSION CLASSIFIER ###\n",
    "\n",
    "\n",
    "#glm.fel_assault = glm(Harrassment~.-OffenseDesc-Lat,data = NYPD)\n",
    "#summary(glm.fel_assault)\n",
    "\n",
    "#glm.probs=predict(glm.fel_assault,type=\"response\")\n",
    "#plot(glm.probs)"
   ]
  },
  {
   "cell_type": "markdown",
   "metadata": {},
   "source": [
    "## Working with DateTime fields"
   ]
  },
  {
   "cell_type": "code",
   "execution_count": 86,
   "metadata": {},
   "outputs": [],
   "source": [
    "library(plyr)\n",
    "library(ggplot2)\n",
    "library(tidyverse)\n",
    "library(lubridate)\n",
    "library(tibble)\n",
    "library(chron)\n",
    "library(ISLR)\n",
    "library(tree)\n",
    "\n",
    "#options(stringsAsFactors = FALSE)"
   ]
  },
  {
   "cell_type": "code",
   "execution_count": 7,
   "metadata": {},
   "outputs": [],
   "source": [
    "CrimeData = read.csv(\"NYPD_Complaint_Data_Current__Year_To_Date_.csv\")"
   ]
  },
  {
   "cell_type": "code",
   "execution_count": 50,
   "metadata": {},
   "outputs": [],
   "source": [
    "CD <- data.frame(CrimeData[1:300000,])\n",
    "\n",
    "CD$ADDR_PCT_CD  <- as.factor(CD$ADDR_PCT_CD)\n",
    "CD$ReportedDate <- mdy(CD$CMPLNT_TO_DT)\n",
    "\n",
    "CD$ReportedDate <- as.Date(CD$ReportedDate)\n",
    "\n",
    "CD$ReportedTime <- CD$CMPLNT_FR_TM\n",
    "CD$ReportedTime <- chron(times=CD$ReportedTime)\n",
    "\n",
    "CD$CMPLNT_FR_DT <- NULL\n",
    "CD$CMPLNT_TO_DT <- NULL"
   ]
  },
  {
   "cell_type": "code",
   "execution_count": 51,
   "metadata": {},
   "outputs": [],
   "source": [
    "CrimesAgainstBusiness    <- CD[CD$VIC_SEX == 'D',]\n",
    "CrimesAgainstPeopleOfNYS <- CD[CD$VIC_SEX == 'E',]\n",
    "CrimesAgainstPersons     <- CD[CD$VIC_SEX == 'M' | CD$VIC_SEX == 'F',]"
   ]
  },
  {
   "cell_type": "markdown",
   "metadata": {},
   "source": [
    "## Temporary T Dataset for Pre-Processing and Visualization"
   ]
  },
  {
   "cell_type": "code",
   "execution_count": 52,
   "metadata": {},
   "outputs": [],
   "source": [
    "T <- data.frame(\n",
    "    OffenseDesc     = CrimesAgainstPersons$OFNS_DESC,\n",
    "    VicSex          = CrimesAgainstPersons$VIC_SEX,\n",
    "    VicRace         = CrimesAgainstPersons$VIC_RACE,\n",
    "    VicAgeGroup     = CrimesAgainstPersons$VIC_AGE_GROUP,\n",
    "    ReportedDate    = CrimesAgainstPersons$ReportedDate,\n",
    "    ReportedTime    = CrimesAgainstPersons$ReportedTime,\n",
    "    Borough         = CrimesAgainstPersons$BORO_NM,\n",
    "    PremisesType    = CrimesAgainstPersons$PREM_TYP_DESC,\n",
    "    SusAgeGroup     = CrimesAgainstPersons$SUSP_AGE_GROUP,\n",
    "    SusRace         = CrimesAgainstPersons$SUSP_RACE,\n",
    "    SusSex          = CrimesAgainstPersons$SUSP_SEX,\n",
    "    Latitude        = CrimesAgainstPersons$Latitude,\n",
    "    Longitude       = CrimesAgainstPersons$Longitude\n",
    ")\n",
    "\n",
    "VIC_BizOrg         = ifelse(T$VicSex == \"D\", 1,0)\n",
    "VIC_PPLOfNYS       = ifelse(T$VicSex == \"E\", 1,0)\n",
    "\n",
    "# Convert Column Types\n",
    "T$OffenseDesc <- as.factor(T$OffenseDesc)\n",
    "T$ReportedDate <- as.POSIXlt(T$ReportedDate)\n",
    "\n",
    "T <- na.omit(T)\n",
    "\n",
    "# Remove all records older than 2020-01-01\n",
    "T <- subset(T, T$ReportedDate > (\"2019-12-31\"))\n",
    "\n",
    "# Add month column\n",
    "\n",
    "T$Month = rep(0, nrow(T))\n",
    "\n",
    "T$Month <- as.POSIXlt(T$ReportedDate)\n",
    "T$Month <- format(as.Date(T$Month), \"%B\")\n",
    "\n",
    "T <- na.omit(T)\n",
    "T <- T[order(as.Date(T$ReportedDate)),]\n",
    "\n",
    "# Adding a Week column\n",
    "T$Week = rep(0, nrow(T))\n",
    "T$Week <- strftime(T$ReportedDate, format = \"%V\")\n",
    "\n",
    "# Adding a  Day Of Week column\n",
    "T$DayOfWeek = rep(0, nrow(T))\n",
    "T$DayOfWeek <- strftime(T$ReportedDate, format = \"%A\")\n",
    "\n",
    "# Add an hour column\n",
    "T$ReportedTime <- as.factor(T$ReportedTime)\n",
    "\n",
    "T$Hour = rep(0, nrow(T))\n",
    "T$Hour <- format(as.POSIXct(T$ReportedTime,format=\"%H:%M:%S\"),\"%H\")\n",
    "\n",
    "T <- na.omit(T)"
   ]
  },
  {
   "cell_type": "markdown",
   "metadata": {},
   "source": [
    "### NYPD - Processing Ready Dataset"
   ]
  },
  {
   "cell_type": "code",
   "execution_count": 67,
   "metadata": {},
   "outputs": [],
   "source": [
    "# Create Final Processing Ready Dataset\n",
    "\n",
    "NYPD <- T\n",
    "\n",
    "NYPD <- na.omit(NYPD)\n",
    "\n",
    "NYPD$PremisesType      <- as.factor(NYPD$PremisesType)\n",
    "NYPD$Borough           <- as.factor(NYPD$Borough)\n",
    "\n",
    "# Cleaning dataset\n",
    "NYPD <- na.omit(NYPD)\n",
    "\n",
    "## Cleaning location data\n",
    "NYPD <- subset(NYPD, \n",
    "               Borough == \"BROOKLYN\" |\n",
    "               Borough == \"BRONX\"|\n",
    "               Borough == \"QUEENS\" |\n",
    "               Borough == \"STATEN ISLAND\" |\n",
    "               Borough == \"MANHATTAN\"\n",
    "              )\n",
    "\n",
    "NYPD$Borough <- droplevels(NYPD$Borough)\n",
    "\n",
    "NYPD <- subset(NYPD,\n",
    "               PremisesType == \"RESIDENCE - APT. HOUSE\" |\n",
    "               PremisesType == \"STREET\" |\n",
    "               PremisesType == \"RESIDENCE-HOUSE\" |\n",
    "               PremisesType == \"RESIDENCE - PUBLIC HOUSING\" |\n",
    "               PremisesType == \"OTHER\" |\n",
    "               PremisesType == \"GROCERY/BODEGA\" |\n",
    "               PremisesType == \"COMMERCIAL BUILDING\" |\n",
    "               PremisesType == \"PARK/PLAYGROUND\" |\n",
    "               PremisesType == \"RESTAURANT/DINER\"|\n",
    "               PremisesType == \"HOTEL/MOTEL\" |\n",
    "               PremisesType == \"CHAIN STORE\" |\n",
    "               PremisesType == \"HOMELESS SHELTER\" |\n",
    "               PremisesType == \"PARKING LOT/GARAGE (PUBLIC\" |\n",
    "               PremisesType == \"FAST FOOD\" |\n",
    "               PremisesType == \"HOSPITAL\" |\n",
    "               PremisesType == \"PARKING LOT/GARAGE (PRIVATE)\" |\n",
    "               PremisesType == \"BAR/NIGHT CLUB\" |\n",
    "               PremisesType == \"DEPARTMENT STORE\" |\n",
    "               PremisesType == \"PUBLIC SCHOOL\" |\n",
    "               PremisesType == \"BANK\" |\n",
    "               PremisesType == \"BUS (NYC TRANSIT)\" |\n",
    "               PremisesType == \"PUBLIC BUILDING\" |\n",
    "               PremisesType == \"FOOD SUPERMARKET\" |\n",
    "               PremisesType == \"DRUG STORE\" |\n",
    "               PremisesType == \"HIGHWAY/PARKWAY\" |\n",
    "               PremisesType == \"GAS STATION\" |\n",
    "               PremisesType == \"DRY CLEANER/LAUNDRY\" |\n",
    "               PremisesType == \"DOCTOR/DENTIST OFFICE\"               \n",
    "              )\n",
    "\n",
    "NYPD$PremisesType <- droplevels(NYPD$PremisesType)\n",
    "\n",
    "## CLEANING VICTIM DATA\n",
    "NYPD <- subset(NYPD, \n",
    "               VicAgeGroup == \"<18\" |\n",
    "               VicAgeGroup == \"18-24\" |\n",
    "               VicAgeGroup == \"25-44\" |\n",
    "               VicAgeGroup == \"45-64\" |\n",
    "               VicAgeGroup == \"65+\" |\n",
    "               VicAgeGroup == \"UNKNOWN\"\n",
    "              )\n",
    "\n",
    "NYPD$VicAgeGroup <- droplevels(NYPD$VicAgeGroup)\n",
    "\n",
    "NYPD <- subset(NYPD, VicSex == \"M\" | VicSex == \"F\")\n",
    "NYPD$VicSex <-droplevels(NYPD$VicSex)\n",
    "\n",
    "NYPD <- subset(NYPD,\n",
    "               VicRace == \"AMERICAN INDIAN/ALASKAN NATIVE\" |\n",
    "               VicRace == \"ASIAN / PACIFIC ISLANDER\" |\n",
    "               VicRace == \"BLACK\" |\n",
    "               VicRace == \"BLACK HISPANIC\" |\n",
    "               VicRace == \"WHITE HISPANIC\" |\n",
    "               VicRace == \"WHITE\" |\n",
    "               VicRace == \"UNKNOWN\"\n",
    "              )\n",
    "\n",
    "NYPD$VicRace <- droplevels(NYPD$VicRace)\n",
    "\n",
    "## CLEANING SUSPECT DATA\n",
    "NYPD <- subset(NYPD, \n",
    "               Borough == \"BROOKLYN\" |\n",
    "               Borough == \"BRONX\"|\n",
    "               Borough == \"QUEENS\" |\n",
    "               Borough == \"STATEN ISLAND\" |\n",
    "               Borough == \"MANHATTAN\"\n",
    "              )\n",
    "\n",
    "NYPD$Borough <- droplevels(NYPD$Borough)\n",
    "\n",
    "## CLEANING SUSPECT DATA\n",
    "NYPD <- subset(NYPD, \n",
    "               SusAgeGroup == \"<18\" |\n",
    "               SusAgeGroup == \"18-24\" |\n",
    "               SusAgeGroup == \"25-44\" |\n",
    "               SusAgeGroup == \"45-64\" |\n",
    "               SusAgeGroup == \"65+\"\n",
    "              )\n",
    "\n",
    "NYPD$SusAgeGroup <- droplevels(NYPD$SusAgeGroup)\n",
    "\n",
    "NYPD <- subset(NYPD, SusSex == \"M\" | SusSex == \"F\")\n",
    "NYPD$SusSex <-droplevels(NYPD$SusSex)\n",
    "\n",
    "NYPD <- subset(NYPD,\n",
    "               SusRace == \"AMERICAN INDIAN/ALASKAN NATIVE\" |\n",
    "               SusRace == \"ASIAN / PACIFIC ISLANDER\" |\n",
    "               SusRace == \"BLACK\" |\n",
    "               SusRace == \"BLACK HISPANIC\" |\n",
    "               SusRace == \"WHITE HISPANIC\" |\n",
    "               SusRace == \"WHITE\" |\n",
    "               SusRace == \"UNKNOWN\"\n",
    "              )\n",
    "NYPD$SusRace <- droplevels(NYPD$SusRace)\n",
    "\n",
    "\n",
    "NYPD <- subset(NYPD, \n",
    "               OffenseDesc == \"HARRASSMENT 2\" |\n",
    "               #OffenseDesc == \"FELONY ASSAULT\"|\n",
    "               OffenseDesc == \"CRIMINAL MISCHIEF & RELATED OF\"|\n",
    "               OffenseDesc == \"GRAND LARCENY\"|\n",
    "               OffenseDesc == \"OFF. AGNST PUB ORD SENSBLTY &\"|\n",
    "               OffenseDesc == \"ROBBERY\"|\n",
    "               OffenseDesc == \"VEHICLE AND TRAFFIC LAWS\"|\n",
    "               OffenseDesc == \"SEX CRIMES\"|\n",
    "               OffenseDesc == \"OFFENSES AGAINST PUBLIC ADMINI\"|\n",
    "               OffenseDesc == \"THEFT-FRAUD\"|\n",
    "               OffenseDesc == \"RAPE\"|\n",
    "               OffenseDesc == \"CRIMINAL TRESPASS\"|\n",
    "               OffenseDesc == \"FRAUDS\"|\n",
    "               OffenseDesc == \"UNAUTHORIZED USE OF A VEHICLE\"|\n",
    "               OffenseDesc == \"ADMINISTRATIVE CODE\"\n",
    "              )\n",
    "\n",
    "NYPD$Hour       <- as.factor(NYPD$Hour)\n",
    "NYPD$Month      <- as.factor(NYPD$Month)\n",
    "NYPD$Week       <- as.numeric(NYPD$Week)\n",
    "NYPD$DayOfWeek  <- as.factor(NYPD$DayOfWeek)\n",
    "\n",
    "NYPD$Harrassment   = ifelse(NYPD$OffenseDesc == \"HARRASSMENT 2\", TRUE, FALSE)\n",
    "NYPD$Harrassment <- as.factor(NYPD$Harrassment)\n",
    "\n",
    "NYPD$OffenseDesc <- droplevels(NYPD$OffenseDesc)\n",
    "\n",
    "NYPD           <- as.data.frame(NYPD)\n",
    "rownames(NYPD) <- NULL\n",
    "\n",
    "\n",
    "NYPD$ReportedDate <- NULL\n",
    "NYPD$ReportedTime <- NULL\n",
    "\n",
    "\n",
    "\n",
    "# Cleaning dataset\n",
    "NYPD <- na.omit(NYPD)\n"
   ]
  },
  {
   "cell_type": "markdown",
   "metadata": {},
   "source": [
    "## Creating Training and Validation Datasets"
   ]
  },
  {
   "cell_type": "code",
   "execution_count": 101,
   "metadata": {},
   "outputs": [
    {
     "data": {
      "text/html": [
       "<ol class=list-inline>\n",
       "\t<li>33099</li>\n",
       "\t<li>16</li>\n",
       "</ol>\n"
      ],
      "text/latex": [
       "\\begin{enumerate*}\n",
       "\\item 33099\n",
       "\\item 16\n",
       "\\end{enumerate*}\n"
      ],
      "text/markdown": [
       "1. 33099\n",
       "2. 16\n",
       "\n",
       "\n"
      ],
      "text/plain": [
       "[1] 33099    16"
      ]
     },
     "metadata": {},
     "output_type": "display_data"
    },
    {
     "data": {
      "text/html": [
       "<ol class=list-inline>\n",
       "\t<li>20897</li>\n",
       "\t<li>16</li>\n",
       "</ol>\n"
      ],
      "text/latex": [
       "\\begin{enumerate*}\n",
       "\\item 20897\n",
       "\\item 16\n",
       "\\end{enumerate*}\n"
      ],
      "text/markdown": [
       "1. 20897\n",
       "2. 16\n",
       "\n",
       "\n"
      ],
      "text/plain": [
       "[1] 20897    16"
      ]
     },
     "metadata": {},
     "output_type": "display_data"
    }
   ],
   "source": [
    "## 75% of the sample size\n",
    "smp_size <- floor(0.75 * nrow(NYPD))\n",
    "\n",
    "## set the seed to make your partition reproducible\n",
    "set.seed(123)\n",
    "train_ind <- sample(seq_len(nrow(NYPD)), size = smp_size, replace = TRUE)\n",
    "\n",
    "train <- NYPD[train_ind, ]\n",
    "test  <- NYPD[-train_ind, ]\n",
    "\n",
    "rownames(train) <- NULL\n",
    "rownames(test) <- NULL\n",
    "\n",
    "dim(train)\n",
    "dim(test)"
   ]
  },
  {
   "cell_type": "code",
   "execution_count": 100,
   "metadata": {},
   "outputs": [],
   "source": [
    "#summary(NYPD)\n",
    "#sapply(NYPD, class)\n",
    "#sapply(test, class)"
   ]
  },
  {
   "cell_type": "markdown",
   "metadata": {},
   "source": [
    "## Decision Tree Classifier"
   ]
  },
  {
   "cell_type": "code",
   "execution_count": 139,
   "metadata": {},
   "outputs": [
    {
     "data": {
      "text/plain": [
       "\n",
       "Classification tree:\n",
       "tree(formula = Harrassment ~ . - OffenseDesc - Longitude - Latitude, \n",
       "    data = train)\n",
       "Variables actually used in tree construction:\n",
       "[1] \"SusAgeGroup\"  \"PremisesType\"\n",
       "Number of terminal nodes:  3 \n",
       "Residual mean deviance:  1.337 = 44240 / 33100 \n",
       "Misclassification error rate: 0.4193 = 13879 / 33099 "
      ]
     },
     "metadata": {},
     "output_type": "display_data"
    },
    {
     "data": {
      "text/plain": [
       "node), split, n, deviance, yval, (yprob)\n",
       "      * denotes terminal node\n",
       "\n",
       "1) root 33099 45740 TRUE ( 0.4668 0.5332 )  \n",
       "  2) SusAgeGroup: <18,18-24,25-44 25386 35170 FALSE ( 0.5145 0.4855 )  \n",
       "    4) PremisesType: DEPARTMENT STORE,GAS STATION,HIGHWAY/PARKWAY,PARK/PLAYGROUND,PARKING LOT/GARAGE (PRIVATE),STREET 5338  6930 FALSE ( 0.6472 0.3528 ) *\n",
       "    5) PremisesType: BANK,BAR/NIGHT CLUB,BUS (NYC TRANSIT),CHAIN STORE,COMMERCIAL BUILDING,DOCTOR/DENTIST OFFICE,DRUG STORE,DRY CLEANER/LAUNDRY,FAST FOOD,FOOD SUPERMARKET,GROCERY/BODEGA,HOMELESS SHELTER,HOSPITAL,HOTEL/MOTEL,OTHER,PUBLIC BUILDING,PUBLIC SCHOOL,RESIDENCE-HOUSE,RESIDENCE - APT. HOUSE,RESIDENCE - PUBLIC HOUSING,RESTAURANT/DINER 20048 27760 TRUE ( 0.4792 0.5208 ) *\n",
       "  3) SusAgeGroup: 45-64,65+ 7713  9549 TRUE ( 0.3099 0.6901 ) *"
      ]
     },
     "metadata": {},
     "output_type": "display_data"
    },
    {
     "data": {
      "image/png": "[encoded data removed]",
      "text/plain": [
       "plot without title"
      ]
     },
     "metadata": {},
     "output_type": "display_data"
    }
   ],
   "source": [
    "NYPD$Harrassment <- as.factor(NYPD$Harrassment)\n",
    "\n",
    "#attach(NYPD)\n",
    "\n",
    "tree.harrassment = tree(Harrassment~.-OffenseDesc-Longitude-Latitude, data = train)\n",
    "summary(tree.harrassment)\n",
    "\n",
    "tree.harrassment\n",
    "\n",
    "plot(tree.harrassment)\n",
    "text(tree.harrassment, pretty=0, cex = 0.5)"
   ]
  },
  {
   "cell_type": "code",
   "execution_count": 140,
   "metadata": {},
   "outputs": [
    {
     "data": {
      "text/plain": [
       "         Harrassment\n",
       "tree.pred FALSE TRUE\n",
       "    FALSE  2162 1215\n",
       "    TRUE   7609 9911"
      ]
     },
     "metadata": {},
     "output_type": "display_data"
    }
   ],
   "source": [
    "# make predictions using the 'tree.harrassment' model we learned\n",
    "tree.pred = predict(tree.harrassment, test, type=\"class\")\n",
    "\n",
    "with(test, table(tree.pred, Harrassment))"
   ]
  },
  {
   "cell_type": "code",
   "execution_count": 141,
   "metadata": {},
   "outputs": [
    {
     "data": {
      "text/html": [
       "0.577738431353783"
      ],
      "text/latex": [
       "0.577738431353783"
      ],
      "text/markdown": [
       "0.577738431353783"
      ],
      "text/plain": [
       "[1] 0.5777384"
      ]
     },
     "metadata": {},
     "output_type": "display_data"
    }
   ],
   "source": [
    "# Model Accuracy rate is 57%\n",
    "12073 / 20897"
   ]
  },
  {
   "cell_type": "code",
   "execution_count": 145,
   "metadata": {},
   "outputs": [
    {
     "data": {
      "image/png": "[encoded data removed]",
      "text/plain": [
       "plot without title"
      ]
     },
     "metadata": {},
     "output_type": "display_data"
    }
   ],
   "source": [
    "# Determining optimal tree depth\n",
    "\n",
    "cv.harrassment = cv.tree(tree.harrassment, FUN = prune.misclass)\n",
    "#cv.harrassment\n",
    "\n",
    "plot(cv.harrassment)"
   ]
  },
  {
   "cell_type": "code",
   "execution_count": 147,
   "metadata": {},
   "outputs": [
    {
     "data": {
      "image/png": "[encoded data removed]",
      "text/plain": [
       "plot without title"
      ]
     },
     "metadata": {},
     "output_type": "display_data"
    }
   ],
   "source": [
    "prune.harrassment = prune.misclass(tree.harrassment, best = 3)\n",
    "plot(prune.harrassment)\n",
    "text(prune.harrassment, pretty=0, cex = 0.5)"
   ]
  },
  {
   "cell_type": "code",
   "execution_count": 150,
   "metadata": {},
   "outputs": [],
   "source": [
    "## Attempting to Improve Decision Tree Classifier Performance Using Boosting"
   ]
  },
  {
   "cell_type": "code",
   "execution_count": 154,
   "metadata": {},
   "outputs": [
    {
     "data": {
      "text/html": [
       "<table>\n",
       "<thead><tr><th></th><th scope=col>var</th><th scope=col>rel.inf</th></tr></thead>\n",
       "<tbody>\n",
       "\t<tr><th scope=row>Hour</th><td>Hour        </td><td>27.046739   </td></tr>\n",
       "\t<tr><th scope=row>PremisesType</th><td>PremisesType</td><td>21.525922   </td></tr>\n",
       "\t<tr><th scope=row>SusAgeGroup</th><td>SusAgeGroup </td><td> 8.981165   </td></tr>\n",
       "\t<tr><th scope=row>Longitude</th><td>Longitude   </td><td> 7.146539   </td></tr>\n",
       "\t<tr><th scope=row>Latitude</th><td>Latitude    </td><td> 7.049003   </td></tr>\n",
       "\t<tr><th scope=row>Month</th><td>Month       </td><td> 5.739357   </td></tr>\n",
       "\t<tr><th scope=row>VicAgeGroup</th><td>VicAgeGroup </td><td> 5.737059   </td></tr>\n",
       "\t<tr><th scope=row>SusSex</th><td>SusSex      </td><td> 3.871493   </td></tr>\n",
       "\t<tr><th scope=row>DayOfWeek</th><td>DayOfWeek   </td><td> 3.431527   </td></tr>\n",
       "\t<tr><th scope=row>VicRace</th><td>VicRace     </td><td> 2.616867   </td></tr>\n",
       "\t<tr><th scope=row>SusRace</th><td>SusRace     </td><td> 2.374575   </td></tr>\n",
       "\t<tr><th scope=row>VicSex</th><td>VicSex      </td><td> 1.530057   </td></tr>\n",
       "\t<tr><th scope=row>Borough</th><td>Borough     </td><td> 1.491967   </td></tr>\n",
       "\t<tr><th scope=row>Week</th><td>Week        </td><td> 1.457730   </td></tr>\n",
       "</tbody>\n",
       "</table>\n"
      ],
      "text/latex": [
       "\\begin{tabular}{r|ll}\n",
       "  & var & rel.inf\\\\\n",
       "\\hline\n",
       "\tHour & Hour         & 27.046739   \\\\\n",
       "\tPremisesType & PremisesType & 21.525922   \\\\\n",
       "\tSusAgeGroup & SusAgeGroup  &  8.981165   \\\\\n",
       "\tLongitude & Longitude    &  7.146539   \\\\\n",
       "\tLatitude & Latitude     &  7.049003   \\\\\n",
       "\tMonth & Month        &  5.739357   \\\\\n",
       "\tVicAgeGroup & VicAgeGroup  &  5.737059   \\\\\n",
       "\tSusSex & SusSex       &  3.871493   \\\\\n",
       "\tDayOfWeek & DayOfWeek    &  3.431527   \\\\\n",
       "\tVicRace & VicRace      &  2.616867   \\\\\n",
       "\tSusRace & SusRace      &  2.374575   \\\\\n",
       "\tVicSex & VicSex       &  1.530057   \\\\\n",
       "\tBorough & Borough      &  1.491967   \\\\\n",
       "\tWeek & Week         &  1.457730   \\\\\n",
       "\\end{tabular}\n"
      ],
      "text/markdown": [
       "\n",
       "| <!--/--> | var | rel.inf |\n",
       "|---|---|---|\n",
       "| Hour | Hour         | 27.046739    |\n",
       "| PremisesType | PremisesType | 21.525922    |\n",
       "| SusAgeGroup | SusAgeGroup  |  8.981165    |\n",
       "| Longitude | Longitude    |  7.146539    |\n",
       "| Latitude | Latitude     |  7.049003    |\n",
       "| Month | Month        |  5.739357    |\n",
       "| VicAgeGroup | VicAgeGroup  |  5.737059    |\n",
       "| SusSex | SusSex       |  3.871493    |\n",
       "| DayOfWeek | DayOfWeek    |  3.431527    |\n",
       "| VicRace | VicRace      |  2.616867    |\n",
       "| SusRace | SusRace      |  2.374575    |\n",
       "| VicSex | VicSex       |  1.530057    |\n",
       "| Borough | Borough      |  1.491967    |\n",
       "| Week | Week         |  1.457730    |\n",
       "\n"
      ],
      "text/plain": [
       "             var          rel.inf  \n",
       "Hour         Hour         27.046739\n",
       "PremisesType PremisesType 21.525922\n",
       "SusAgeGroup  SusAgeGroup   8.981165\n",
       "Longitude    Longitude     7.146539\n",
       "Latitude     Latitude      7.049003\n",
       "Month        Month         5.739357\n",
       "VicAgeGroup  VicAgeGroup   5.737059\n",
       "SusSex       SusSex        3.871493\n",
       "DayOfWeek    DayOfWeek     3.431527\n",
       "VicRace      VicRace       2.616867\n",
       "SusRace      SusRace       2.374575\n",
       "VicSex       VicSex        1.530057\n",
       "Borough      Borough       1.491967\n",
       "Week         Week          1.457730"
      ]
     },
     "metadata": {},
     "output_type": "display_data"
    },
    {
     "data": {
      "image/png": "[encoded data removed]",
      "text/plain": [
       "plot without title"
      ]
     },
     "metadata": {},
     "output_type": "display_data"
    }
   ],
   "source": [
    "library(gbm)\n",
    "\n",
    "#boost.boston = gbm(Harrassment~.-OffenseDesc, data = train, distribution = \"gaussian\", n.trees = 10000, shrinkage = 0.01, interaction.depth = 3)\n",
    "summary(boost.boston)"
   ]
  },
  {
   "cell_type": "code",
   "execution_count": 163,
   "metadata": {
    "scrolled": false
   },
   "outputs": [
    {
     "data": {
      "image/png": "[encoded data removed]",
      "text/plain": [
       "plot without title"
      ]
     },
     "metadata": {},
     "output_type": "display_data"
    },
    {
     "data": {
      "image/png": "[encoded data removed]",
      "text/plain": [
       "plot without title"
      ]
     },
     "metadata": {},
     "output_type": "display_data"
    }
   ],
   "source": [
    "plot(boost.boston,i=\"Hour\")\n",
    "plot(boost.boston,i=\"PremisesType\")"
   ]
  },
  {
   "cell_type": "code",
   "execution_count": 164,
   "metadata": {},
   "outputs": [
    {
     "data": {
      "text/html": [
       "<ol class=list-inline>\n",
       "\t<li>20897</li>\n",
       "\t<li>100</li>\n",
       "</ol>\n"
      ],
      "text/latex": [
       "\\begin{enumerate*}\n",
       "\\item 20897\n",
       "\\item 100\n",
       "\\end{enumerate*}\n"
      ],
      "text/markdown": [
       "1. 20897\n",
       "2. 100\n",
       "\n",
       "\n"
      ],
      "text/plain": [
       "[1] 20897   100"
      ]
     },
     "metadata": {},
     "output_type": "display_data"
    }
   ],
   "source": [
    "n.trees = seq(from = 100, to = 10000, by = 100)\n",
    "predmat = predict(boost.boston, newdata = test, n.trees = n.trees)\n",
    "dim(predmat)"
   ]
  },
  {
   "cell_type": "code",
   "execution_count": 171,
   "metadata": {},
   "outputs": [
    {
     "data": {
      "image/png": "[encoded data removed]",
      "text/plain": [
       "Plot with title \"Boosting Test Error\""
      ]
     },
     "metadata": {},
     "output_type": "display_data"
    }
   ],
   "source": [
    "boost.err = with(test, apply( (predmat)^2, 2, mean) )\n",
    "plot(n.trees, boost.err, pch = 23, ylab = \"Mean Squared Error\", xlab = \"# Trees\", main = \"Boosting Test Error\")"
   ]
  },
  {
   "cell_type": "code",
   "execution_count": 173,
   "metadata": {},
   "outputs": [],
   "source": [
    "# Test error goes up from 100 trees"
   ]
  },
  {
   "cell_type": "code",
   "execution_count": 174,
   "metadata": {},
   "outputs": [],
   "source": [
    "predmat = predict(boost.boston, newdata = test, n.trees = 100)"
   ]
  },
  {
   "cell_type": "code",
   "execution_count": 177,
   "metadata": {},
   "outputs": [
    {
     "data": {
      "image/png": "[encoded data removed]",
      "text/plain": [
       "plot without title"
      ]
     },
     "metadata": {},
     "output_type": "display_data"
    }
   ],
   "source": []
  },
  {
   "cell_type": "code",
   "execution_count": 178,
   "metadata": {},
   "outputs": [
    {
     "data": {
      "text/html": [
       "<table>\n",
       "<thead><tr><th></th><th scope=col>var</th><th scope=col>rel.inf</th></tr></thead>\n",
       "<tbody>\n",
       "\t<tr><th scope=row>SusAgeGroup</th><td>SusAgeGroup </td><td>43.124290   </td></tr>\n",
       "\t<tr><th scope=row>PremisesType</th><td>PremisesType</td><td>21.006532   </td></tr>\n",
       "\t<tr><th scope=row>SusSex</th><td>SusSex      </td><td>15.880448   </td></tr>\n",
       "\t<tr><th scope=row>VicAgeGroup</th><td>VicAgeGroup </td><td>13.851579   </td></tr>\n",
       "\t<tr><th scope=row>Hour</th><td>Hour        </td><td> 5.933267   </td></tr>\n",
       "\t<tr><th scope=row>VicSex</th><td>VicSex      </td><td> 0.203884   </td></tr>\n",
       "\t<tr><th scope=row>VicRace</th><td>VicRace     </td><td> 0.000000   </td></tr>\n",
       "\t<tr><th scope=row>Borough</th><td>Borough     </td><td> 0.000000   </td></tr>\n",
       "\t<tr><th scope=row>SusRace</th><td>SusRace     </td><td> 0.000000   </td></tr>\n",
       "\t<tr><th scope=row>Latitude</th><td>Latitude    </td><td> 0.000000   </td></tr>\n",
       "\t<tr><th scope=row>Longitude</th><td>Longitude   </td><td> 0.000000   </td></tr>\n",
       "\t<tr><th scope=row>Month</th><td>Month       </td><td> 0.000000   </td></tr>\n",
       "\t<tr><th scope=row>Week</th><td>Week        </td><td> 0.000000   </td></tr>\n",
       "\t<tr><th scope=row>DayOfWeek</th><td>DayOfWeek   </td><td> 0.000000   </td></tr>\n",
       "</tbody>\n",
       "</table>\n"
      ],
      "text/latex": [
       "\\begin{tabular}{r|ll}\n",
       "  & var & rel.inf\\\\\n",
       "\\hline\n",
       "\tSusAgeGroup & SusAgeGroup  & 43.124290   \\\\\n",
       "\tPremisesType & PremisesType & 21.006532   \\\\\n",
       "\tSusSex & SusSex       & 15.880448   \\\\\n",
       "\tVicAgeGroup & VicAgeGroup  & 13.851579   \\\\\n",
       "\tHour & Hour         &  5.933267   \\\\\n",
       "\tVicSex & VicSex       &  0.203884   \\\\\n",
       "\tVicRace & VicRace      &  0.000000   \\\\\n",
       "\tBorough & Borough      &  0.000000   \\\\\n",
       "\tSusRace & SusRace      &  0.000000   \\\\\n",
       "\tLatitude & Latitude     &  0.000000   \\\\\n",
       "\tLongitude & Longitude    &  0.000000   \\\\\n",
       "\tMonth & Month        &  0.000000   \\\\\n",
       "\tWeek & Week         &  0.000000   \\\\\n",
       "\tDayOfWeek & DayOfWeek    &  0.000000   \\\\\n",
       "\\end{tabular}\n"
      ],
      "text/markdown": [
       "\n",
       "| <!--/--> | var | rel.inf |\n",
       "|---|---|---|\n",
       "| SusAgeGroup | SusAgeGroup  | 43.124290    |\n",
       "| PremisesType | PremisesType | 21.006532    |\n",
       "| SusSex | SusSex       | 15.880448    |\n",
       "| VicAgeGroup | VicAgeGroup  | 13.851579    |\n",
       "| Hour | Hour         |  5.933267    |\n",
       "| VicSex | VicSex       |  0.203884    |\n",
       "| VicRace | VicRace      |  0.000000    |\n",
       "| Borough | Borough      |  0.000000    |\n",
       "| SusRace | SusRace      |  0.000000    |\n",
       "| Latitude | Latitude     |  0.000000    |\n",
       "| Longitude | Longitude    |  0.000000    |\n",
       "| Month | Month        |  0.000000    |\n",
       "| Week | Week         |  0.000000    |\n",
       "| DayOfWeek | DayOfWeek    |  0.000000    |\n",
       "\n"
      ],
      "text/plain": [
       "             var          rel.inf  \n",
       "SusAgeGroup  SusAgeGroup  43.124290\n",
       "PremisesType PremisesType 21.006532\n",
       "SusSex       SusSex       15.880448\n",
       "VicAgeGroup  VicAgeGroup  13.851579\n",
       "Hour         Hour          5.933267\n",
       "VicSex       VicSex        0.203884\n",
       "VicRace      VicRace       0.000000\n",
       "Borough      Borough       0.000000\n",
       "SusRace      SusRace       0.000000\n",
       "Latitude     Latitude      0.000000\n",
       "Longitude    Longitude     0.000000\n",
       "Month        Month         0.000000\n",
       "Week         Week          0.000000\n",
       "DayOfWeek    DayOfWeek     0.000000"
      ]
     },
     "metadata": {},
     "output_type": "display_data"
    },
    {
     "data": {
      "image/png": "[encoded data removed]",
      "text/plain": [
       "plot without title"
      ]
     },
     "metadata": {},
     "output_type": "display_data"
    }
   ],
   "source": [
    "boost.harrassment = gbm(Harrassment~.-OffenseDesc, data = train, distribution = \"gaussian\", n.trees = 100, shrinkage = 0.01, interaction.depth = 3)\n",
    "summary(boost.harrassment)"
   ]
  },
  {
   "cell_type": "code",
   "execution_count": 189,
   "metadata": {},
   "outputs": [],
   "source": [
    "## Given that Boosted decision trees, produced the same splitting criteria, no further accuracy improvement is possible\n",
    "# using decision trees"
   ]
  },
  {
   "cell_type": "code",
   "execution_count": null,
   "metadata": {},
   "outputs": [],
   "source": []
  }
 ],
 "metadata": {
  "kernelspec": {
   "display_name": "R",
   "language": "R",
   "name": "ir"
  },
  "language_info": {
   "codemirror_mode": "r",
   "file_extension": ".r",
   "mimetype": "text/x-r-source",
   "name": "R",
   "pygments_lexer": "r",
   "version": "3.6.1"
  }
 },
 "nbformat": 4,
 "nbformat_minor": 4
}
